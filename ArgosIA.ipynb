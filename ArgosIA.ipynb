{
  "nbformat": 4,
  "nbformat_minor": 0,
  "metadata": {
    "colab": {
      "provenance": []
    },
    "kernelspec": {
      "name": "python3",
      "display_name": "Python 3"
    },
    "language_info": {
      "name": "python"
    }
  },
  "cells": [
    {
      "cell_type": "code",
      "execution_count": 1,
      "metadata": {
        "colab": {
          "base_uri": "https://localhost:8080/"
        },
        "id": "euK7a2uj_ziY",
        "outputId": "1edbc0d4-3154-483a-efcc-f65070faf69b"
      },
      "outputs": [
        {
          "output_type": "stream",
          "name": "stdout",
          "text": [
            "Drive already mounted at /content/drive; to attempt to forcibly remount, call drive.mount(\"/content/drive\", force_remount=True).\n"
          ]
        }
      ],
      "source": [
        "from google.colab import drive\n",
        "drive.mount('/content/drive')"
      ]
    },
    {
      "cell_type": "code",
      "source": [
        "import pandas as pd\n",
        "\n",
        "# Carregar o CSV de clientes\n",
        "clientes_path = '/content/drive/MyDrive/TreinamentoClienteArgosAI/Clientes.csv'\n",
        "clientes_df = pd.read_csv(clientes_path)\n",
        "\n",
        "# Carregar o Excel de produtos\n",
        "produtos_path = '/content/drive/MyDrive/TreinamentoClienteArgosAI/Produtos.xlsx'\n",
        "produtos_df = pd.read_excel(produtos_path)\n"
      ],
      "metadata": {
        "id": "15TDcNzhAB2E"
      },
      "execution_count": 2,
      "outputs": []
    },
    {
      "cell_type": "code",
      "source": [
        "# Visualizar as primeiras linhas dos dados de clientes\n",
        "print(\"Dados de Clientes:\")\n",
        "print(clientes_df.head())\n",
        "\n",
        "# Visualizar as primeiras linhas dos dados de produtos\n",
        "print(\"\\nDados de Produtos:\")\n",
        "print(produtos_df.head())\n",
        "\n",
        "# Obter um resumo estatístico e informações sobre os dados\n",
        "print(\"\\nResumo dos Dados de Clientes:\")\n",
        "print(clientes_df.describe(include='all'))\n",
        "\n",
        "print(\"\\nResumo dos Dados de Produtos:\")\n",
        "print(produtos_df.describe(include='all'))\n"
      ],
      "metadata": {
        "colab": {
          "base_uri": "https://localhost:8080/"
        },
        "id": "llR_UiiEAHrn",
        "outputId": "dd6892da-adc9-4819-c7e9-b8feb0b10a11"
      },
      "execution_count": 3,
      "outputs": [
        {
          "output_type": "stream",
          "name": "stdout",
          "text": [
            "Dados de Clientes:\n",
            "  ID Cliente;Primeiro Nome;Sobrenome;E-mail;Genero;Numero de Filhos;Data de Nascimento;;;;\n",
            "0  1;Garnet;Lanfranchi;glanfranchi0@mayoclinic.co...                                      \n",
            "1  2;Lurette;Roseblade;lroseblade1@bigcartel.com;...                                      \n",
            "2  3;Glenden;Ishchenko;gishchenko2@moonfruit.com;...                                      \n",
            "3  4;Baron;Jedrzejewsky;bjedrzejewsky3@e-recht24....                                      \n",
            "4  5;Sheree;Bredbury;sbredbury4@sitemeter.com;Fem...                                      \n",
            "\n",
            "Dados de Produtos:\n",
            "   ID Produto     Gênero Faixa Etária  Idade   Produtos  \\\n",
            "0           1  Masculino       Jovens     22  Camisetas   \n",
            "1           2  Masculino       Jovens     24   Bermudas   \n",
            "2           3  Masculino       Jovens     21     Blusas   \n",
            "3           4  Masculino       Jovens     23    Regatas   \n",
            "4           5  Masculino       Jovens     20   Vestidos   \n",
            "\n",
            "                                 Descrição Tamanho  \n",
            "0         Camiseta de algodão com estampa.       M  \n",
            "1                 Bermuda casual de sarja.       G  \n",
            "2               Blusa leve de manga curta.       P  \n",
            "3         Regata confortável para o verão.       M  \n",
            "4  Vestido casual para ocasiões informais.       G  \n",
            "\n",
            "Resumo dos Dados de Clientes:\n",
            "       ID Cliente;Primeiro Nome;Sobrenome;E-mail;Genero;Numero de Filhos;Data de Nascimento;;;;\n",
            "count                                               39504                                      \n",
            "unique                                              39504                                      \n",
            "top     1;Garnet;Lanfranchi;glanfranchi0@mayoclinic.co...                                      \n",
            "freq                                                    1                                      \n",
            "\n",
            "Resumo dos Dados de Produtos:\n",
            "        ID Produto     Gênero Faixa Etária      Idade   Produtos  \\\n",
            "count   300.000000        300          300  300.00000        300   \n",
            "unique         NaN          2            4        NaN          5   \n",
            "top            NaN  Masculino       Jovens        NaN  Camisetas   \n",
            "freq           NaN        160           75        NaN         60   \n",
            "mean    150.500000        NaN          NaN   44.71000        NaN   \n",
            "std      86.746758        NaN          NaN   19.03155        NaN   \n",
            "min       1.000000        NaN          NaN   13.00000        NaN   \n",
            "25%      75.750000        NaN          NaN   27.00000        NaN   \n",
            "50%     150.500000        NaN          NaN   41.50000        NaN   \n",
            "75%     225.250000        NaN          NaN   62.00000        NaN   \n",
            "max     300.000000        NaN          NaN   78.00000        NaN   \n",
            "\n",
            "                            Descrição Tamanho  \n",
            "count                             300     300  \n",
            "unique                            228       4  \n",
            "top     Vestido casual e confortável.       M  \n",
            "freq                                8     100  \n",
            "mean                              NaN     NaN  \n",
            "std                               NaN     NaN  \n",
            "min                               NaN     NaN  \n",
            "25%                               NaN     NaN  \n",
            "50%                               NaN     NaN  \n",
            "75%                               NaN     NaN  \n",
            "max                               NaN     NaN  \n"
          ]
        }
      ]
    },
    {
      "cell_type": "code",
      "source": [
        "# Verificar as faixas etárias únicas no conjunto de dados\n",
        "print(produtos_df['Faixa Etária'].unique())\n"
      ],
      "metadata": {
        "colab": {
          "base_uri": "https://localhost:8080/"
        },
        "id": "Aj2NpF0nEUP3",
        "outputId": "873bb138-6ae4-42d3-8baa-af33a922e66b"
      },
      "execution_count": 4,
      "outputs": [
        {
          "output_type": "stream",
          "name": "stdout",
          "text": [
            "['Jovens' 'Adultos jovens' 'Adultos de meia-idade' 'Idosos']\n"
          ]
        }
      ]
    },
    {
      "cell_type": "code",
      "source": [
        "# Carregar o CSV de clientes com o separador correto\n",
        "clientes_df = pd.read_csv(clientes_path, sep=';')\n",
        "\n",
        "# Remover colunas vazias\n",
        "clientes_df = clientes_df.dropna(axis=1, how='all')\n",
        "\n",
        "# Checar os dados após remoção de colunas vazias\n",
        "print(\"Dados de Clientes após remoção de colunas vazias:\")\n",
        "print(clientes_df.head())\n",
        "print(clientes_df.info())\n"
      ],
      "metadata": {
        "colab": {
          "base_uri": "https://localhost:8080/"
        },
        "id": "528K9FuDAPMe",
        "outputId": "06c8ceee-c5dd-4d6c-e970-75d361671993"
      },
      "execution_count": 5,
      "outputs": [
        {
          "output_type": "stream",
          "name": "stdout",
          "text": [
            "Dados de Clientes após remoção de colunas vazias:\n",
            "   ID Cliente Primeiro Nome     Sobrenome                       E-mail  \\\n",
            "0           1        Garnet    Lanfranchi  glanfranchi0@mayoclinic.com   \n",
            "1           2       Lurette     Roseblade    lroseblade1@bigcartel.com   \n",
            "2           3       Glenden     Ishchenko    gishchenko2@moonfruit.com   \n",
            "3           4         Baron  Jedrzejewsky  bjedrzejewsky3@e-recht24.de   \n",
            "4           5        Sheree      Bredbury     sbredbury4@sitemeter.com   \n",
            "\n",
            "      Genero  Numero de Filhos Data de Nascimento  \n",
            "0   Feminino                 2         12/05/1995  \n",
            "1   Feminino                 2         30/06/1943  \n",
            "2  Masculino                 5         09/04/1989  \n",
            "3  Masculino                 4         17/11/1998  \n",
            "4   Feminino                 5         08/09/1975  \n",
            "<class 'pandas.core.frame.DataFrame'>\n",
            "RangeIndex: 39504 entries, 0 to 39503\n",
            "Data columns (total 7 columns):\n",
            " #   Column              Non-Null Count  Dtype \n",
            "---  ------              --------------  ----- \n",
            " 0   ID Cliente          39504 non-null  int64 \n",
            " 1   Primeiro Nome       39504 non-null  object\n",
            " 2   Sobrenome           39504 non-null  object\n",
            " 3   E-mail              39504 non-null  object\n",
            " 4   Genero              39504 non-null  object\n",
            " 5   Numero de Filhos    39504 non-null  int64 \n",
            " 6   Data de Nascimento  39504 non-null  object\n",
            "dtypes: int64(2), object(5)\n",
            "memory usage: 2.1+ MB\n",
            "None\n"
          ]
        }
      ]
    },
    {
      "cell_type": "code",
      "source": [
        "# Converter 'Data de Nascimento' para datetime\n",
        "clientes_df['Data de Nascimento'] = pd.to_datetime(clientes_df['Data de Nascimento'], format='%d/%m/%Y', errors='coerce')\n",
        "\n",
        "# Função para calcular a idade\n",
        "def calcular_idade(data_nascimento):\n",
        "    if pd.isnull(data_nascimento):\n",
        "        return None\n",
        "    today = pd.Timestamp.now()\n",
        "    idade = today.year - data_nascimento.year - ((today.month, today.day) < (data_nascimento.month, data_nascimento.day))\n",
        "    return idade\n",
        "\n",
        "# Aplicar a função para calcular a idade\n",
        "clientes_df['Idade'] = clientes_df['Data de Nascimento'].apply(calcular_idade)\n",
        "\n",
        "# Remover a coluna de 'Data de Nascimento'\n",
        "clientes_df = clientes_df.drop(columns=['Data de Nascimento'])\n",
        "\n",
        "# Checar os dados após cálculo da idade\n",
        "print(\"Dados de Clientes após cálculo da idade:\")\n",
        "print(clientes_df.head())\n",
        "print(clientes_df.info())"
      ],
      "metadata": {
        "colab": {
          "base_uri": "https://localhost:8080/"
        },
        "id": "tKNprP0dAwH6",
        "outputId": "2c2067f4-a5b8-40eb-c118-e6ad8c4595c2"
      },
      "execution_count": 6,
      "outputs": [
        {
          "output_type": "stream",
          "name": "stdout",
          "text": [
            "Dados de Clientes após cálculo da idade:\n",
            "   ID Cliente Primeiro Nome     Sobrenome                       E-mail  \\\n",
            "0           1        Garnet    Lanfranchi  glanfranchi0@mayoclinic.com   \n",
            "1           2       Lurette     Roseblade    lroseblade1@bigcartel.com   \n",
            "2           3       Glenden     Ishchenko    gishchenko2@moonfruit.com   \n",
            "3           4         Baron  Jedrzejewsky  bjedrzejewsky3@e-recht24.de   \n",
            "4           5        Sheree      Bredbury     sbredbury4@sitemeter.com   \n",
            "\n",
            "      Genero  Numero de Filhos  Idade  \n",
            "0   Feminino                 2     29  \n",
            "1   Feminino                 2     81  \n",
            "2  Masculino                 5     35  \n",
            "3  Masculino                 4     25  \n",
            "4   Feminino                 5     49  \n",
            "<class 'pandas.core.frame.DataFrame'>\n",
            "RangeIndex: 39504 entries, 0 to 39503\n",
            "Data columns (total 7 columns):\n",
            " #   Column            Non-Null Count  Dtype \n",
            "---  ------            --------------  ----- \n",
            " 0   ID Cliente        39504 non-null  int64 \n",
            " 1   Primeiro Nome     39504 non-null  object\n",
            " 2   Sobrenome         39504 non-null  object\n",
            " 3   E-mail            39504 non-null  object\n",
            " 4   Genero            39504 non-null  object\n",
            " 5   Numero de Filhos  39504 non-null  int64 \n",
            " 6   Idade             39504 non-null  int64 \n",
            "dtypes: int64(3), object(4)\n",
            "memory usage: 2.1+ MB\n",
            "None\n"
          ]
        }
      ]
    },
    {
      "cell_type": "code",
      "source": [
        "# Verificar as faixas etárias únicas no conjunto de dados\n",
        "print(produtos_df['Faixa Etária'].unique())\n"
      ],
      "metadata": {
        "colab": {
          "base_uri": "https://localhost:8080/"
        },
        "id": "IOVs_mpYEfgE",
        "outputId": "0b7bc47c-d8b1-4453-bb3e-e1c4063e1fc5"
      },
      "execution_count": 7,
      "outputs": [
        {
          "output_type": "stream",
          "name": "stdout",
          "text": [
            "['Jovens' 'Adultos jovens' 'Adultos de meia-idade' 'Idosos']\n"
          ]
        }
      ]
    },
    {
      "cell_type": "code",
      "source": [
        "# Codificar a variável 'Genero' para facilitar na analise\n",
        "clientes_df = pd.get_dummies(clientes_df, columns=['Genero'], drop_first=True)\n",
        "\n",
        "# Checar os dados após codificação\n",
        "print(\"Dados de Clientes após codificação:\")\n",
        "print(clientes_df.head())"
      ],
      "metadata": {
        "colab": {
          "base_uri": "https://localhost:8080/"
        },
        "id": "g8fnTqIwA6kU",
        "outputId": "c552ad77-10fa-4592-f57f-775dac0e6ff9"
      },
      "execution_count": 8,
      "outputs": [
        {
          "output_type": "stream",
          "name": "stdout",
          "text": [
            "Dados de Clientes após codificação:\n",
            "   ID Cliente Primeiro Nome     Sobrenome                       E-mail  \\\n",
            "0           1        Garnet    Lanfranchi  glanfranchi0@mayoclinic.com   \n",
            "1           2       Lurette     Roseblade    lroseblade1@bigcartel.com   \n",
            "2           3       Glenden     Ishchenko    gishchenko2@moonfruit.com   \n",
            "3           4         Baron  Jedrzejewsky  bjedrzejewsky3@e-recht24.de   \n",
            "4           5        Sheree      Bredbury     sbredbury4@sitemeter.com   \n",
            "\n",
            "   Numero de Filhos  Idade  Genero_Masculino  \n",
            "0                 2     29             False  \n",
            "1                 2     81             False  \n",
            "2                 5     35              True  \n",
            "3                 4     25              True  \n",
            "4                 5     49             False  \n"
          ]
        }
      ]
    },
    {
      "cell_type": "code",
      "source": [
        "# Verificar as faixas etárias únicas no conjunto de dados\n",
        "print(produtos_df['Faixa Etária'].unique())\n"
      ],
      "metadata": {
        "colab": {
          "base_uri": "https://localhost:8080/"
        },
        "id": "cv-TNNAxE0P6",
        "outputId": "f4aab5a5-214b-45d1-8666-bf7c11354d8c"
      },
      "execution_count": 9,
      "outputs": [
        {
          "output_type": "stream",
          "name": "stdout",
          "text": [
            "['Jovens' 'Adultos jovens' 'Adultos de meia-idade' 'Idosos']\n"
          ]
        }
      ]
    },
    {
      "cell_type": "code",
      "source": [
        "#OBSERVANDO TABELA PRODUTOS"
      ],
      "metadata": {
        "id": "ThRsJL7hA9lP"
      },
      "execution_count": null,
      "outputs": []
    },
    {
      "cell_type": "code",
      "source": [
        "print(\"Dados de Produtos:\")\n",
        "print(produtos_df.head())\n",
        "\n",
        "# Obter um resumo estatístico e informações sobre os dados\n",
        "print(\"\\nResumo dos Dados de Produtos:\")\n",
        "print(produtos_df.describe(include='all'))"
      ],
      "metadata": {
        "colab": {
          "base_uri": "https://localhost:8080/"
        },
        "id": "PIrFCc4yCl5D",
        "outputId": "481e4e0c-eb82-4b29-893d-f95490c9f80a"
      },
      "execution_count": 10,
      "outputs": [
        {
          "output_type": "stream",
          "name": "stdout",
          "text": [
            "Dados de Produtos:\n",
            "   ID Produto     Gênero Faixa Etária  Idade   Produtos  \\\n",
            "0           1  Masculino       Jovens     22  Camisetas   \n",
            "1           2  Masculino       Jovens     24   Bermudas   \n",
            "2           3  Masculino       Jovens     21     Blusas   \n",
            "3           4  Masculino       Jovens     23    Regatas   \n",
            "4           5  Masculino       Jovens     20   Vestidos   \n",
            "\n",
            "                                 Descrição Tamanho  \n",
            "0         Camiseta de algodão com estampa.       M  \n",
            "1                 Bermuda casual de sarja.       G  \n",
            "2               Blusa leve de manga curta.       P  \n",
            "3         Regata confortável para o verão.       M  \n",
            "4  Vestido casual para ocasiões informais.       G  \n",
            "\n",
            "Resumo dos Dados de Produtos:\n",
            "        ID Produto     Gênero Faixa Etária      Idade   Produtos  \\\n",
            "count   300.000000        300          300  300.00000        300   \n",
            "unique         NaN          2            4        NaN          5   \n",
            "top            NaN  Masculino       Jovens        NaN  Camisetas   \n",
            "freq           NaN        160           75        NaN         60   \n",
            "mean    150.500000        NaN          NaN   44.71000        NaN   \n",
            "std      86.746758        NaN          NaN   19.03155        NaN   \n",
            "min       1.000000        NaN          NaN   13.00000        NaN   \n",
            "25%      75.750000        NaN          NaN   27.00000        NaN   \n",
            "50%     150.500000        NaN          NaN   41.50000        NaN   \n",
            "75%     225.250000        NaN          NaN   62.00000        NaN   \n",
            "max     300.000000        NaN          NaN   78.00000        NaN   \n",
            "\n",
            "                            Descrição Tamanho  \n",
            "count                             300     300  \n",
            "unique                            228       4  \n",
            "top     Vestido casual e confortável.       M  \n",
            "freq                                8     100  \n",
            "mean                              NaN     NaN  \n",
            "std                               NaN     NaN  \n",
            "min                               NaN     NaN  \n",
            "25%                               NaN     NaN  \n",
            "50%                               NaN     NaN  \n",
            "75%                               NaN     NaN  \n",
            "max                               NaN     NaN  \n"
          ]
        }
      ]
    },
    {
      "cell_type": "code",
      "source": [
        "# Verificar as faixas etárias únicas no conjunto de dados\n",
        "print(produtos_df['Faixa Etária'].unique())\n"
      ],
      "metadata": {
        "colab": {
          "base_uri": "https://localhost:8080/"
        },
        "id": "CSZU9g7YEuvz",
        "outputId": "83720fb6-4b06-4a44-cded-0418c712391f"
      },
      "execution_count": 11,
      "outputs": [
        {
          "output_type": "stream",
          "name": "stdout",
          "text": [
            "['Jovens' 'Adultos jovens' 'Adultos de meia-idade' 'Idosos']\n"
          ]
        }
      ]
    },
    {
      "cell_type": "code",
      "source": [
        "import pandas as pd\n",
        "import numpy as np\n",
        "\n",
        "# Exemplo de dados fornecidos\n",
        "np.random.seed(0)  # Para reprodutibilidade\n",
        "\n",
        "# Atualizar o DataFrame para incluir todas as faixas etárias\n",
        "produtos_df = pd.DataFrame({\n",
        "    'ID Produto': range(1, 301),\n",
        "    'Gênero': ['Masculino']*160 + ['Feminino']*140,\n",
        "    'Faixa Etária': np.random.choice(['Jovens', 'Adultos jovens', 'Adultos de meia-idade', 'Idosos'], size=300),\n",
        "    'Idade': np.random.randint(13, 80, size=300),\n",
        "    'Produtos': np.random.choice(['Camisetas', 'Bermudas', 'Blusas', 'Regatas', 'Vestidos'], size=300),\n",
        "    'Descrição': np.random.choice(['Descrição 1', 'Descrição 2', 'Descrição 3'], size=300),\n",
        "    'Tamanho': np.random.choice(['P', 'M', 'G', 'GG'], size=300)\n",
        "})\n",
        "\n",
        "# Agrupar por Faixa Etária e Produtos e contar quantidades\n",
        "produto_por_faixa_etaria = produtos_df.groupby(['Faixa Etária', 'Produtos']).size().reset_index(name='Quantidade')\n",
        "\n",
        "# Ordenar por Faixa Etária e Quantidade\n",
        "produto_por_faixa_etaria = produto_por_faixa_etaria.sort_values(by=['Faixa Etária', 'Quantidade'], ascending=[True, False])\n",
        "\n",
        "print(\"\\nProdutos comprados por Faixa Etária:\")\n",
        "print(produto_por_faixa_etaria)\n"
      ],
      "metadata": {
        "colab": {
          "base_uri": "https://localhost:8080/"
        },
        "id": "z_QQdINwCs5d",
        "outputId": "ec1003ff-2951-4881-88c9-9880ffcc7c5a"
      },
      "execution_count": 12,
      "outputs": [
        {
          "output_type": "stream",
          "name": "stdout",
          "text": [
            "\n",
            "Produtos comprados por Faixa Etária:\n",
            "             Faixa Etária   Produtos  Quantidade\n",
            "4   Adultos de meia-idade   Vestidos          19\n",
            "2   Adultos de meia-idade  Camisetas          18\n",
            "1   Adultos de meia-idade     Blusas          13\n",
            "3   Adultos de meia-idade    Regatas          10\n",
            "0   Adultos de meia-idade   Bermudas           9\n",
            "5          Adultos jovens   Bermudas          17\n",
            "7          Adultos jovens  Camisetas          15\n",
            "9          Adultos jovens   Vestidos          13\n",
            "6          Adultos jovens     Blusas          12\n",
            "8          Adultos jovens    Regatas          10\n",
            "11                 Idosos     Blusas          20\n",
            "14                 Idosos   Vestidos          18\n",
            "10                 Idosos   Bermudas          17\n",
            "12                 Idosos  Camisetas          15\n",
            "13                 Idosos    Regatas          15\n",
            "15                 Jovens   Bermudas          18\n",
            "16                 Jovens     Blusas          18\n",
            "18                 Jovens    Regatas          18\n",
            "19                 Jovens   Vestidos          15\n",
            "17                 Jovens  Camisetas          10\n"
          ]
        }
      ]
    },
    {
      "cell_type": "code",
      "source": [
        "# Verificar as faixas etárias únicas no conjunto de dados\n",
        "print(produtos_df['Faixa Etária'].unique())\n"
      ],
      "metadata": {
        "colab": {
          "base_uri": "https://localhost:8080/"
        },
        "id": "PGSz1iVyEnfE",
        "outputId": "c3e0c744-db7c-4deb-cf97-cf83f390d5e0"
      },
      "execution_count": 13,
      "outputs": [
        {
          "output_type": "stream",
          "name": "stdout",
          "text": [
            "['Jovens' 'Idosos' 'Adultos jovens' 'Adultos de meia-idade']\n"
          ]
        }
      ]
    },
    {
      "cell_type": "code",
      "source": [
        "# Agora, agrupamos os produtos por faixa etária e contamos as quantidades de cada produto comprado por diferentes grupos de idade.\n",
        "produto_por_faixa_etaria = produtos_df.groupby(['Faixa Etária', 'Produtos']).size().reset_index(name='Quantidade')\n",
        "\n",
        "produto_por_faixa_etaria = produto_por_faixa_etaria.sort_values(by=['Faixa Etária', 'Quantidade'], ascending=[True, False])\n",
        "\n",
        "#A análise nos mostra quais produtos são mais comprados por cada faixa etária.\n",
        "print(\"\\nProdutos comprados por Faixa Etária:\")\n",
        "print(produto_por_faixa_etaria)\n"
      ],
      "metadata": {
        "colab": {
          "base_uri": "https://localhost:8080/"
        },
        "id": "ynbrIgdPDFe9",
        "outputId": "63b64637-5aff-4fa8-fa30-26087ad95143"
      },
      "execution_count": 14,
      "outputs": [
        {
          "output_type": "stream",
          "name": "stdout",
          "text": [
            "\n",
            "Produtos comprados por Faixa Etária:\n",
            "             Faixa Etária   Produtos  Quantidade\n",
            "4   Adultos de meia-idade   Vestidos          19\n",
            "2   Adultos de meia-idade  Camisetas          18\n",
            "1   Adultos de meia-idade     Blusas          13\n",
            "3   Adultos de meia-idade    Regatas          10\n",
            "0   Adultos de meia-idade   Bermudas           9\n",
            "5          Adultos jovens   Bermudas          17\n",
            "7          Adultos jovens  Camisetas          15\n",
            "9          Adultos jovens   Vestidos          13\n",
            "6          Adultos jovens     Blusas          12\n",
            "8          Adultos jovens    Regatas          10\n",
            "11                 Idosos     Blusas          20\n",
            "14                 Idosos   Vestidos          18\n",
            "10                 Idosos   Bermudas          17\n",
            "12                 Idosos  Camisetas          15\n",
            "13                 Idosos    Regatas          15\n",
            "15                 Jovens   Bermudas          18\n",
            "16                 Jovens     Blusas          18\n",
            "18                 Jovens    Regatas          18\n",
            "19                 Jovens   Vestidos          15\n",
            "17                 Jovens  Camisetas          10\n"
          ]
        }
      ]
    },
    {
      "cell_type": "code",
      "source": [
        "# Verificar a contagem de produtos por faixa etária\n",
        "contagem_por_faixa_etaria = produtos_df['Faixa Etária'].value_counts()\n",
        "print(contagem_por_faixa_etaria)\n"
      ],
      "metadata": {
        "colab": {
          "base_uri": "https://localhost:8080/"
        },
        "id": "xEBx38nPF10H",
        "outputId": "78bd126a-014c-4f50-ef02-41a527252d0c"
      },
      "execution_count": 15,
      "outputs": [
        {
          "output_type": "stream",
          "name": "stdout",
          "text": [
            "Faixa Etária\n",
            "Idosos                   85\n",
            "Jovens                   79\n",
            "Adultos de meia-idade    69\n",
            "Adultos jovens           67\n",
            "Name: count, dtype: int64\n"
          ]
        }
      ]
    },
    {
      "cell_type": "code",
      "source": [
        "#Genero e produtos"
      ],
      "metadata": {
        "id": "F1eQlpiWF5GP"
      },
      "execution_count": null,
      "outputs": []
    },
    {
      "cell_type": "code",
      "source": [
        "import pandas as pd\n",
        "import numpy as np\n",
        "from sklearn.model_selection import train_test_split\n",
        "from sklearn.ensemble import RandomForestClassifier\n",
        "from sklearn.metrics import classification_report, accuracy_score\n",
        "\n",
        "# Exemplo de dados fornecidos\n",
        "np.random.seed(0)  # Para reprodutibilidade\n",
        "\n",
        "# Atualizar o DataFrame para incluir todas as faixas etárias\n",
        "produtos_df = pd.DataFrame({\n",
        "    'ID Produto': range(1, 301),\n",
        "    'Gênero': np.random.choice(['Masculino', 'Feminino'], size=300),\n",
        "    'Faixa Etária': np.random.choice(['Jovens', 'Adultos jovens', 'Adultos de meia-idade', 'Idosos'], size=300),\n",
        "    'Idade': np.random.randint(13, 80, size=300),\n",
        "    'Produtos': np.random.choice(['Camisetas', 'Bermudas', 'Blusas', 'Regatas', 'Vestidos'], size=300),\n",
        "    'Descrição': np.random.choice(['Descrição 1', 'Descrição 2', 'Descrição 3'], size=300),\n",
        "    'Tamanho': np.random.choice(['P', 'M', 'G', 'GG'], size=300)\n",
        "})\n",
        "\n",
        "# Convertendo variáveis categóricas em numéricas\n",
        "produtos_df_encoded = pd.get_dummies(produtos_df[['Gênero', 'Produtos']], drop_first=True)\n",
        "\n",
        "# Target e Features\n",
        "X = produtos_df_encoded\n",
        "y = produtos_df['Produtos']\n",
        "\n",
        "# Dividir os dados em treinamento e teste\n",
        "X_train, X_test, y_train, y_test = train_test_split(X, y, test_size=0.3, random_state=0)\n",
        "\n",
        "# Passando para a parte de IA, utilizei dois algoritmos de classificação\n",
        "#para prever o tipo de produto baseado no gênero e na faixa etária: Random Forest,\n",
        "#SVM e KNN. Os dados foram divididos em treinamento e teste para avaliar a precisão dos modelos\n",
        "model = RandomForestClassifier(n_estimators=100, random_state=0)\n",
        "model.fit(X_train, y_train)\n",
        "\n",
        "# Fazer previsões\n",
        "y_pred = model.predict(X_test)\n",
        "\n",
        "# Avaliar o modelo\n",
        "accuracy = accuracy_score(y_test, y_pred)\n",
        "report = classification_report(y_test, y_pred)\n",
        "\n",
        "print(f'Accuracy: {accuracy:.2f}')\n",
        "print(\"\\nClassification Report:\")\n",
        "print(report)\n"
      ],
      "metadata": {
        "colab": {
          "base_uri": "https://localhost:8080/"
        },
        "id": "GdEiTPzMGH5I",
        "outputId": "fdeac9f9-b331-4cdf-f7df-a0888f54be8c"
      },
      "execution_count": 16,
      "outputs": [
        {
          "output_type": "stream",
          "name": "stdout",
          "text": [
            "Accuracy: 1.00\n",
            "\n",
            "Classification Report:\n",
            "              precision    recall  f1-score   support\n",
            "\n",
            "    Bermudas       1.00      1.00      1.00        23\n",
            "      Blusas       1.00      1.00      1.00        12\n",
            "   Camisetas       1.00      1.00      1.00        16\n",
            "     Regatas       1.00      1.00      1.00        20\n",
            "    Vestidos       1.00      1.00      1.00        19\n",
            "\n",
            "    accuracy                           1.00        90\n",
            "   macro avg       1.00      1.00      1.00        90\n",
            "weighted avg       1.00      1.00      1.00        90\n",
            "\n"
          ]
        }
      ]
    },
    {
      "cell_type": "code",
      "source": [
        "from sklearn.model_selection import cross_val_score\n",
        "scores = cross_val_score(model, X, y, cv=5)\n",
        "print(f'Cross-Validation Accuracy: {scores.mean():.2f} ± {scores.std():.2f}')\n"
      ],
      "metadata": {
        "colab": {
          "base_uri": "https://localhost:8080/"
        },
        "id": "rwywI67EGhT6",
        "outputId": "daa913cb-43ed-4762-f711-81faee76eb2a"
      },
      "execution_count": 17,
      "outputs": [
        {
          "output_type": "stream",
          "name": "stdout",
          "text": [
            "Cross-Validation Accuracy: 1.00 ± 0.00\n"
          ]
        }
      ]
    },
    {
      "cell_type": "code",
      "source": [
        "#Vamos dividir em treinamento e teste"
      ],
      "metadata": {
        "id": "bgs5piw2GpSq"
      },
      "execution_count": null,
      "outputs": []
    },
    {
      "cell_type": "code",
      "source": [
        "from sklearn.model_selection import train_test_split\n",
        "\n",
        "# Dividir os dados em treinamento e teste\n",
        "X_train, X_test, y_train, y_test = train_test_split(X, y, test_size=0.3, random_state=0)\n",
        "\n",
        "# Treinar o modelo\n",
        "model.fit(X_train, y_train)\n",
        "\n",
        "# Avaliar o modelo com o conjunto de teste\n",
        "y_pred = model.predict(X_test)\n",
        "accuracy_test = accuracy_score(y_test, y_pred)\n",
        "print(f'Test Accuracy: {accuracy_test:.2f}')\n"
      ],
      "metadata": {
        "colab": {
          "base_uri": "https://localhost:8080/"
        },
        "id": "9TCdgwMFGs1B",
        "outputId": "957dc93e-337f-4b70-d159-360d47d72010"
      },
      "execution_count": 18,
      "outputs": [
        {
          "output_type": "stream",
          "name": "stdout",
          "text": [
            "Test Accuracy: 1.00\n"
          ]
        }
      ]
    },
    {
      "cell_type": "code",
      "source": [
        "from sklearn.svm import SVC\n",
        "from sklearn.neighbors import KNeighborsClassifier\n",
        "\n",
        "# Testar um classificador SVM\n",
        "model_svm = SVC(kernel='linear', random_state=0)\n",
        "model_svm.fit(X_train, y_train)\n",
        "y_pred_svm = model_svm.predict(X_test)\n",
        "accuracy_svm = accuracy_score(y_test, y_pred_svm)\n",
        "print(f'SVM Test Accuracy: {accuracy_svm:.2f}')\n",
        "\n",
        "# Testar um classificador KNN\n",
        "model_knn = KNeighborsClassifier(n_neighbors=5)\n",
        "model_knn.fit(X_train, y_train)\n",
        "y_pred_knn = model_knn.predict(X_test)\n",
        "accuracy_knn = accuracy_score(y_test, y_pred_knn)\n",
        "print(f'KNN Test Accuracy: {accuracy_knn:.2f}')\n"
      ],
      "metadata": {
        "colab": {
          "base_uri": "https://localhost:8080/"
        },
        "id": "xR_UHpkXGuAX",
        "outputId": "c3d7f97d-790d-4960-dfc5-2d2ea3c0242e"
      },
      "execution_count": 19,
      "outputs": [
        {
          "output_type": "stream",
          "name": "stdout",
          "text": [
            "SVM Test Accuracy: 1.00\n",
            "KNN Test Accuracy: 1.00\n"
          ]
        }
      ]
    },
    {
      "cell_type": "code",
      "source": [
        "from sklearn.metrics import confusion_matrix, classification_report\n",
        "\n",
        "# Matriz de Confusão para SVM\n",
        "conf_matrix_svm = confusion_matrix(y_test, y_pred_svm)\n",
        "print('Confusion Matrix for SVM:\\n', conf_matrix_svm)\n",
        "\n",
        "# Relatório de Classificação para SVM\n",
        "class_report_svm = classification_report(y_test, y_pred_svm)\n",
        "print('Classification Report for SVM:\\n', class_report_svm)\n",
        "\n",
        "# Matriz de Confusão para KNN\n",
        "conf_matrix_knn = confusion_matrix(y_test, y_pred_knn)\n",
        "print('Confusion Matrix for KNN:\\n', conf_matrix_knn)\n",
        "\n",
        "# Relatório de Classificação para KNN\n",
        "class_report_knn = classification_report(y_test, y_pred_knn)\n",
        "print('Classification Report for KNN:\\n', class_report_knn)\n"
      ],
      "metadata": {
        "colab": {
          "base_uri": "https://localhost:8080/"
        },
        "id": "9pQu9PBOG1nR",
        "outputId": "cda80f9d-a8d1-43c7-dd4f-01459bd99cd8"
      },
      "execution_count": 20,
      "outputs": [
        {
          "output_type": "stream",
          "name": "stdout",
          "text": [
            "Confusion Matrix for SVM:\n",
            " [[23  0  0  0  0]\n",
            " [ 0 12  0  0  0]\n",
            " [ 0  0 16  0  0]\n",
            " [ 0  0  0 20  0]\n",
            " [ 0  0  0  0 19]]\n",
            "Classification Report for SVM:\n",
            "               precision    recall  f1-score   support\n",
            "\n",
            "    Bermudas       1.00      1.00      1.00        23\n",
            "      Blusas       1.00      1.00      1.00        12\n",
            "   Camisetas       1.00      1.00      1.00        16\n",
            "     Regatas       1.00      1.00      1.00        20\n",
            "    Vestidos       1.00      1.00      1.00        19\n",
            "\n",
            "    accuracy                           1.00        90\n",
            "   macro avg       1.00      1.00      1.00        90\n",
            "weighted avg       1.00      1.00      1.00        90\n",
            "\n",
            "Confusion Matrix for KNN:\n",
            " [[23  0  0  0  0]\n",
            " [ 0 12  0  0  0]\n",
            " [ 0  0 16  0  0]\n",
            " [ 0  0  0 20  0]\n",
            " [ 0  0  0  0 19]]\n",
            "Classification Report for KNN:\n",
            "               precision    recall  f1-score   support\n",
            "\n",
            "    Bermudas       1.00      1.00      1.00        23\n",
            "      Blusas       1.00      1.00      1.00        12\n",
            "   Camisetas       1.00      1.00      1.00        16\n",
            "     Regatas       1.00      1.00      1.00        20\n",
            "    Vestidos       1.00      1.00      1.00        19\n",
            "\n",
            "    accuracy                           1.00        90\n",
            "   macro avg       1.00      1.00      1.00        90\n",
            "weighted avg       1.00      1.00      1.00        90\n",
            "\n"
          ]
        }
      ]
    },
    {
      "cell_type": "code",
      "source": [
        "# Visualizar as últimas 5 linhas da tabela\n",
        "print(produtos_df.tail())\n"
      ],
      "metadata": {
        "colab": {
          "base_uri": "https://localhost:8080/"
        },
        "id": "i0gppKF9G_5V",
        "outputId": "c4c93ae6-ca05-43e9-c873-5cfb3bd23296"
      },
      "execution_count": 21,
      "outputs": [
        {
          "output_type": "stream",
          "name": "stdout",
          "text": [
            "     ID Produto     Gênero           Faixa Etária  Idade   Produtos  \\\n",
            "295         296  Masculino                 Jovens     42     Blusas   \n",
            "296         297  Masculino                 Jovens     18   Bermudas   \n",
            "297         298  Masculino                 Idosos     53  Camisetas   \n",
            "298         299   Feminino  Adultos de meia-idade     35   Bermudas   \n",
            "299         300   Feminino         Adultos jovens     43   Vestidos   \n",
            "\n",
            "       Descrição Tamanho  \n",
            "295  Descrição 3      GG  \n",
            "296  Descrição 3       G  \n",
            "297  Descrição 2      GG  \n",
            "298  Descrição 3       P  \n",
            "299  Descrição 1       P  \n"
          ]
        }
      ]
    },
    {
      "cell_type": "code",
      "source": [
        "# Visualizar toda a tabela (não recomendado para grandes tabelas)\n",
        "print(produtos_df)\n"
      ],
      "metadata": {
        "colab": {
          "base_uri": "https://localhost:8080/"
        },
        "id": "71HgciOvHWjk",
        "outputId": "b1891ba3-6bd3-44d2-ff4b-c5e96e3be61a"
      },
      "execution_count": 22,
      "outputs": [
        {
          "output_type": "stream",
          "name": "stdout",
          "text": [
            "     ID Produto     Gênero           Faixa Etária  Idade   Produtos  \\\n",
            "0             1  Masculino         Adultos jovens     56    Regatas   \n",
            "1             2   Feminino                 Jovens     76   Vestidos   \n",
            "2             3   Feminino                 Idosos     44   Vestidos   \n",
            "3             4  Masculino                 Jovens     33     Blusas   \n",
            "4             5   Feminino  Adultos de meia-idade     22     Blusas   \n",
            "..          ...        ...                    ...    ...        ...   \n",
            "295         296  Masculino                 Jovens     42     Blusas   \n",
            "296         297  Masculino                 Jovens     18   Bermudas   \n",
            "297         298  Masculino                 Idosos     53  Camisetas   \n",
            "298         299   Feminino  Adultos de meia-idade     35   Bermudas   \n",
            "299         300   Feminino         Adultos jovens     43   Vestidos   \n",
            "\n",
            "       Descrição Tamanho  \n",
            "0    Descrição 3       P  \n",
            "1    Descrição 1       M  \n",
            "2    Descrição 1       M  \n",
            "3    Descrição 3       G  \n",
            "4    Descrição 1       P  \n",
            "..           ...     ...  \n",
            "295  Descrição 3      GG  \n",
            "296  Descrição 3       G  \n",
            "297  Descrição 2      GG  \n",
            "298  Descrição 3       P  \n",
            "299  Descrição 1       P  \n",
            "\n",
            "[300 rows x 7 columns]\n"
          ]
        }
      ]
    },
    {
      "cell_type": "code",
      "source": [
        "!pip install transformers torch"
      ],
      "metadata": {
        "colab": {
          "base_uri": "https://localhost:8080/"
        },
        "id": "GsQLZB5sQkOY",
        "outputId": "6dc11869-ce4d-4875-aeab-e9385270e5ab"
      },
      "execution_count": 27,
      "outputs": [
        {
          "output_type": "stream",
          "name": "stdout",
          "text": [
            "Requirement already satisfied: transformers in /usr/local/lib/python3.10/dist-packages (4.44.2)\n",
            "Requirement already satisfied: torch in /usr/local/lib/python3.10/dist-packages (2.5.0+cu121)\n",
            "Requirement already satisfied: filelock in /usr/local/lib/python3.10/dist-packages (from transformers) (3.16.1)\n",
            "Requirement already satisfied: huggingface-hub<1.0,>=0.23.2 in /usr/local/lib/python3.10/dist-packages (from transformers) (0.24.7)\n",
            "Requirement already satisfied: numpy>=1.17 in /usr/local/lib/python3.10/dist-packages (from transformers) (1.26.4)\n",
            "Requirement already satisfied: packaging>=20.0 in /usr/local/lib/python3.10/dist-packages (from transformers) (24.1)\n",
            "Requirement already satisfied: pyyaml>=5.1 in /usr/local/lib/python3.10/dist-packages (from transformers) (6.0.2)\n",
            "Requirement already satisfied: regex!=2019.12.17 in /usr/local/lib/python3.10/dist-packages (from transformers) (2024.9.11)\n",
            "Requirement already satisfied: requests in /usr/local/lib/python3.10/dist-packages (from transformers) (2.32.3)\n",
            "Requirement already satisfied: safetensors>=0.4.1 in /usr/local/lib/python3.10/dist-packages (from transformers) (0.4.5)\n",
            "Requirement already satisfied: tokenizers<0.20,>=0.19 in /usr/local/lib/python3.10/dist-packages (from transformers) (0.19.1)\n",
            "Requirement already satisfied: tqdm>=4.27 in /usr/local/lib/python3.10/dist-packages (from transformers) (4.66.6)\n",
            "Requirement already satisfied: typing-extensions>=4.8.0 in /usr/local/lib/python3.10/dist-packages (from torch) (4.12.2)\n",
            "Requirement already satisfied: networkx in /usr/local/lib/python3.10/dist-packages (from torch) (3.4.2)\n",
            "Requirement already satisfied: jinja2 in /usr/local/lib/python3.10/dist-packages (from torch) (3.1.4)\n",
            "Requirement already satisfied: fsspec in /usr/local/lib/python3.10/dist-packages (from torch) (2024.10.0)\n",
            "Requirement already satisfied: sympy==1.13.1 in /usr/local/lib/python3.10/dist-packages (from torch) (1.13.1)\n",
            "Requirement already satisfied: mpmath<1.4,>=1.1.0 in /usr/local/lib/python3.10/dist-packages (from sympy==1.13.1->torch) (1.3.0)\n",
            "Requirement already satisfied: MarkupSafe>=2.0 in /usr/local/lib/python3.10/dist-packages (from jinja2->torch) (3.0.2)\n",
            "Requirement already satisfied: charset-normalizer<4,>=2 in /usr/local/lib/python3.10/dist-packages (from requests->transformers) (3.4.0)\n",
            "Requirement already satisfied: idna<4,>=2.5 in /usr/local/lib/python3.10/dist-packages (from requests->transformers) (3.10)\n",
            "Requirement already satisfied: urllib3<3,>=1.21.1 in /usr/local/lib/python3.10/dist-packages (from requests->transformers) (2.2.3)\n",
            "Requirement already satisfied: certifi>=2017.4.17 in /usr/local/lib/python3.10/dist-packages (from requests->transformers) (2024.8.30)\n"
          ]
        }
      ]
    },
    {
      "cell_type": "code",
      "source": [
        "#Transformers: Ideal para processamento de linguagem natural, com modelos prontos para geração de texto, tradução, resumo, NER, e outras tarefas avançadas de NLP.\n",
        "#Torch: Excelente para criar redes neurais customizadas e treinar modelos de machine learning e deep learning com suporte a GPU."
      ],
      "metadata": {
        "id": "0gPsXyxrRn8Y"
      },
      "execution_count": null,
      "outputs": []
    },
    {
      "cell_type": "code",
      "source": [
        "from transformers import BertTokenizer, BertForSequenceClassification\n",
        "import torch\n",
        "\n",
        "# Carregar o modelo de classificação de sentimento (BERT)\n",
        "tokenizer = BertTokenizer.from_pretrained(\"nlptown/bert-base-multilingual-uncased-sentiment\")\n",
        "model = BertForSequenceClassification.from_pretrained(\"nlptown/bert-base-multilingual-uncased-sentiment\")\n",
        "\n",
        "# Função de recomendação e analise do sentimento\n",
        "def analisar_sentimento(texto):\n",
        "\n",
        "    inputs = tokenizer(texto, return_tensors=\"pt\")\n",
        "\n",
        "    outputs = model(**inputs)\n",
        "    logits = outputs.logits\n",
        "\n",
        "    predicted_class = torch.argmax(logits, dim=1).item()\n",
        "\n",
        "    # Mapeamento da previsão para uma descrição de sentimento\n",
        "    sentimentos = {\n",
        "        0: \"Muito Negativo\",\n",
        "        1: \"Negativo\",\n",
        "        2: \"Neutro\",\n",
        "        3: \"Positivo\",\n",
        "        4: \"Muito Positivo\"\n",
        "    }\n",
        "\n",
        "\n",
        "    print(f\"Texto analisado: {texto}\")\n",
        "    print(f\"Classe de sentimento prevista: {predicted_class} ({sentimentos[predicted_class]})\")\n",
        "    print(\"\\nExplicação:\")\n",
        "    print(\"O modelo utilizado é uma versão de BERT treinada para classificação de sentimentos em cinco níveis:\")\n",
        "    print(\"Muito Negativo (0), Negativo (1), Neutro (2), Positivo (3) e Muito Positivo (4).\")\n",
        "    print(f\"Neste caso, o modelo previu que o sentimento é: {sentimentos[predicted_class]}\")\n",
        "\n",
        "cliente_exemplo = {\n",
        "    'Gênero': 'Masculino',\n",
        "    'Idade': 25,\n",
        "    'Produtos': ['Camisetas', 'Bermudas']\n",
        "}\n",
        "\n",
        "texto_recomendacao = f\"Este cliente gosta de {', '.join(cliente_exemplo['Produtos'])}. Com base nas suas preferências e no seu perfil, recomendamos produtos de moda jovem e esportiva.\"\n",
        "\n",
        "analisar_sentimento(texto_recomendacao)\n"
      ],
      "metadata": {
        "colab": {
          "base_uri": "https://localhost:8080/"
        },
        "id": "09iUiX1IPJf7",
        "outputId": "5077af7e-fdff-4467-f5ae-132dcb79cd44"
      },
      "execution_count": 36,
      "outputs": [
        {
          "output_type": "stream",
          "name": "stdout",
          "text": [
            "Texto analisado: Este cliente gosta de Camisetas, Bermudas. Com base nas suas preferências e no seu perfil, recomendamos produtos de moda jovem e esportiva.\n",
            "Classe de sentimento prevista: 4 (Muito Positivo)\n",
            "\n",
            "Explicação:\n",
            "O modelo utilizado é uma versão de BERT treinada para classificação de sentimentos em cinco níveis:\n",
            "Muito Negativo (0), Negativo (1), Neutro (2), Positivo (3) e Muito Positivo (4).\n",
            "Neste caso, o modelo previu que o sentimento é: Muito Positivo\n"
          ]
        }
      ]
    },
    {
      "cell_type": "code",
      "source": [
        "# Exemplo de feedback de um cliente sobre o atendimento\n",
        "feedback_cliente = \"O atendimento foi muito rápido e os funcionários foram muito prestativos.\"\n",
        "\n",
        "analisar_sentimento(feedback_cliente)\n"
      ],
      "metadata": {
        "colab": {
          "base_uri": "https://localhost:8080/"
        },
        "id": "9w1yGAjGRuRX",
        "outputId": "43167659-ecf3-4573-d9fa-ab9312c1d7d5"
      },
      "execution_count": 37,
      "outputs": [
        {
          "output_type": "stream",
          "name": "stdout",
          "text": [
            "Texto analisado: O atendimento foi muito rápido e os funcionários foram muito prestativos.\n",
            "Classe de sentimento prevista: 4 (Muito Positivo)\n",
            "\n",
            "Explicação:\n",
            "O modelo utilizado é uma versão de BERT treinada para classificação de sentimentos em cinco níveis:\n",
            "Muito Negativo (0), Negativo (1), Neutro (2), Positivo (3) e Muito Positivo (4).\n",
            "Neste caso, o modelo previu que o sentimento é: Muito Positivo\n"
          ]
        }
      ]
    },
    {
      "cell_type": "code",
      "source": [
        "\n",
        "cliente_exemplo = {\n",
        "    'Gênero': 'Feminino',\n",
        "    'Idade': 30,\n",
        "    'Interesses': ['moda', 'beleza', 'cuidado pessoal']\n",
        "}\n",
        "\n",
        "# Gerar recomendações com base nos interesses do cliente\n",
        "def gerar_recomendacao_personalizada(cliente_info):\n",
        "    prompt = f\"Cliente do sexo {cliente_info['Gênero']} de {cliente_info['Idade']} anos, interessado em {', '.join(cliente_info['Interesses'])}. Recomendação:\"\n",
        "    recomendacao = generator(prompt, max_length=50, num_return_sequences=1)\n",
        "    return recomendacao[0]['generated_text']\n",
        "\n",
        "recomendacao = gerar_recomendacao_personalizada(cliente_exemplo)\n",
        "print(\"Recomendação Personalizada:\", recomendacao)\n"
      ],
      "metadata": {
        "colab": {
          "base_uri": "https://localhost:8080/"
        },
        "id": "piecGWkERxrj",
        "outputId": "5690fbca-f91d-41c1-f92a-7101d2e91ae7"
      },
      "execution_count": 40,
      "outputs": [
        {
          "output_type": "stream",
          "name": "stderr",
          "text": [
            "Setting `pad_token_id` to `eos_token_id`:50256 for open-end generation.\n"
          ]
        },
        {
          "output_type": "stream",
          "name": "stdout",
          "text": [
            "Recomendação Personalizada: Cliente do sexo Feminino de 30 anos, interessado em moda, beleza, cuidado pessoal. Recomendação: Múcio del Público - T\n"
          ]
        }
      ]
    },
    {
      "cell_type": "code",
      "source": [
        "\n",
        "comentario_campanha = \"A promoção foi ótima e me fez querer comprar mais produtos!\"\n",
        "\n",
        "analisar_sentimento(comentario_campanha)\n"
      ],
      "metadata": {
        "colab": {
          "base_uri": "https://localhost:8080/"
        },
        "id": "vW6ziYNbSF45",
        "outputId": "20ff80b1-7014-4801-c5ac-13bb0cd99345"
      },
      "execution_count": 41,
      "outputs": [
        {
          "output_type": "stream",
          "name": "stdout",
          "text": [
            "Texto analisado: A promoção foi ótima e me fez querer comprar mais produtos!\n",
            "Classe de sentimento prevista: 4 (Muito Positivo)\n",
            "\n",
            "Explicação:\n",
            "O modelo utilizado é uma versão de BERT treinada para classificação de sentimentos em cinco níveis:\n",
            "Muito Negativo (0), Negativo (1), Neutro (2), Positivo (3) e Muito Positivo (4).\n",
            "Neste caso, o modelo previu que o sentimento é: Muito Positivo\n"
          ]
        }
      ]
    },
    {
      "cell_type": "code",
      "source": [
        "comentario_produto = \"O produto é bom, mas a entrega demorou muito e isso me deixou frustrado.\"\n",
        "\n",
        "analisar_sentimento(comentario_produto)\n"
      ],
      "metadata": {
        "colab": {
          "base_uri": "https://localhost:8080/"
        },
        "id": "Oh_SfJ2NSJka",
        "outputId": "633dd312-cc1b-4349-e101-7218fdeb0ef7"
      },
      "execution_count": 42,
      "outputs": [
        {
          "output_type": "stream",
          "name": "stdout",
          "text": [
            "Texto analisado: O produto é bom, mas a entrega demorou muito e isso me deixou frustrado.\n",
            "Classe de sentimento prevista: 2 (Neutro)\n",
            "\n",
            "Explicação:\n",
            "O modelo utilizado é uma versão de BERT treinada para classificação de sentimentos em cinco níveis:\n",
            "Muito Negativo (0), Negativo (1), Neutro (2), Positivo (3) e Muito Positivo (4).\n",
            "Neste caso, o modelo previu que o sentimento é: Neutro\n"
          ]
        }
      ]
    },
    {
      "cell_type": "code",
      "source": [
        "comentario_produto = \"O produto é ruim, e a entrega demorou muito e isso me deixou frustrado.\"\n",
        "\n",
        "analisar_sentimento(comentario_produto)"
      ],
      "metadata": {
        "colab": {
          "base_uri": "https://localhost:8080/"
        },
        "id": "xcUh-QGWSNJq",
        "outputId": "16dd1835-c1eb-4946-eeb0-0d2556833936"
      },
      "execution_count": 43,
      "outputs": [
        {
          "output_type": "stream",
          "name": "stdout",
          "text": [
            "Texto analisado: O produto é ruim, e a entrega demorou muito e isso me deixou frustrado.\n",
            "Classe de sentimento prevista: 1 (Negativo)\n",
            "\n",
            "Explicação:\n",
            "O modelo utilizado é uma versão de BERT treinada para classificação de sentimentos em cinco níveis:\n",
            "Muito Negativo (0), Negativo (1), Neutro (2), Positivo (3) e Muito Positivo (4).\n",
            "Neste caso, o modelo previu que o sentimento é: Negativo\n"
          ]
        }
      ]
    },
    {
      "cell_type": "code",
      "source": [
        "comentario_produto = \"O produto é pessimo, nao gostei da entrega demorou muito. Produto de pessima qualidade\"\n",
        "\n",
        "analisar_sentimento(comentario_produto)"
      ],
      "metadata": {
        "colab": {
          "base_uri": "https://localhost:8080/"
        },
        "id": "t7XrpmC3W2ZY",
        "outputId": "0b492b42-5d58-4325-8988-2f21875a5af2"
      },
      "execution_count": 44,
      "outputs": [
        {
          "output_type": "stream",
          "name": "stdout",
          "text": [
            "Texto analisado: O produto é pessimo, nao gostei da entrega demorou muito. Produto de pessima qualidade\n",
            "Classe de sentimento prevista: 0 (Muito Negativo)\n",
            "\n",
            "Explicação:\n",
            "O modelo utilizado é uma versão de BERT treinada para classificação de sentimentos em cinco níveis:\n",
            "Muito Negativo (0), Negativo (1), Neutro (2), Positivo (3) e Muito Positivo (4).\n",
            "Neste caso, o modelo previu que o sentimento é: Muito Negativo\n"
          ]
        }
      ]
    },
    {
      "cell_type": "code",
      "source": [
        "comentario_produto = \"O produto é Maravilhoso, entrega ok\"\n",
        "\n",
        "analisar_sentimento(comentario_produto)"
      ],
      "metadata": {
        "colab": {
          "base_uri": "https://localhost:8080/"
        },
        "id": "QaSFxDAxW_Qu",
        "outputId": "998c0201-a7e2-4a07-8c13-7b3ee8dd0244"
      },
      "execution_count": 45,
      "outputs": [
        {
          "output_type": "stream",
          "name": "stdout",
          "text": [
            "Texto analisado: O produto é Maravilhoso, entrega ok\n",
            "Classe de sentimento prevista: 4 (Muito Positivo)\n",
            "\n",
            "Explicação:\n",
            "O modelo utilizado é uma versão de BERT treinada para classificação de sentimentos em cinco níveis:\n",
            "Muito Negativo (0), Negativo (1), Neutro (2), Positivo (3) e Muito Positivo (4).\n",
            "Neste caso, o modelo previu que o sentimento é: Muito Positivo\n"
          ]
        }
      ]
    }
  ]
}